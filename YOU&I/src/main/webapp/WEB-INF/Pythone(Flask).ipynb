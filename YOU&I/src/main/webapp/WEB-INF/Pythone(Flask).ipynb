{
 "cells": [
  {
   "cell_type": "code",
   "execution_count": 95,
   "metadata": {},
   "outputs": [
    {
     "name": "stdout",
     "output_type": "stream",
     "text": [
      " * Serving Flask app '__main__'\n",
      " * Debug mode: off\n"
     ]
    },
    {
     "name": "stderr",
     "output_type": "stream",
     "text": [
      "WARNING: This is a development server. Do not use it in a production deployment. Use a production WSGI server instead.\n",
      " * Running on http://127.0.0.1:5500\n",
      "Press CTRL+C to quit\n",
      "127.0.0.1 - - [05/Dec/2023 09:49:17] \"GET /calendar.html/ws HTTP/1.1\" 404 -\n"
     ]
    },
    {
     "name": "stderr",
     "output_type": "stream",
     "text": [
      "127.0.0.1 - - [05/Dec/2023 09:50:02] \"POST /upload HTTP/1.1\" 200 -\n"
     ]
    }
   ],
   "source": [
    "from flask import Flask, render_template, request\n",
    "\n",
    "app = Flask(__name__)\n",
    "\n",
    "@app.route('/')\n",
    "def upload_page():\n",
    "    return render_template('upload.html')\n",
    "\n",
    "@app.route('/upload', methods=['GET', 'POST'])\n",
    "def upload_image():\n",
    "    if request.method == 'POST' and 'image' in request.files:\n",
    "        image = request.files['image']\n",
    "        return 'image successfully uploaded'\n",
    "    else:\n",
    "        return 'No image provided.'\n",
    "\n",
    "if __name__ == '__main__':\n",
    "    app.run('127.0.0.1', port='8081')\n"
   ]
  },
  {
   "cell_type": "code",
   "execution_count": 26,
   "metadata": {},
   "outputs": [
    {
     "name": "stdout",
     "output_type": "stream",
     "text": [
      "{\"version\":\"V2\",\"requestId\":\"5c93b682-d3d9-4e22-ab08-432d85208029\",\"timestamp\":1701765612717,\"images\":[{\"receipt\":{\"meta\":{\"estimatedLanguage\":\"ko\"},\"result\":{\"storeInfo\":{\"name\":{\"text\":\"이화약국\",\"formatted\":{\"value\":\"이화약국\"},\"keyText\":\"가맹점 명:\",\"confidenceScore\":0.95396,\"boundingPolys\":[{\"vertices\":[{\"x\":235.0,\"y\":212.0},{\"x\":296.0,\"y\":212.0},{\"x\":296.0,\"y\":230.0},{\"x\":235.0,\"y\":230.0}]}],\"maskingPolys\":[]},\"bizNum\":{\"text\":\"506-17-32861\",\"formatted\":{\"value\":\"506-17-32861\"},\"keyText\":\"사업자/\",\"confidenceScore\":0.81191,\"boundingPolys\":[{\"vertices\":[{\"x\":235.0,\"y\":248.0},{\"x\":326.0,\"y\":248.0},{\"x\":326.0,\"y\":263.0},{\"x\":235.0,\"y\":263.0}]}],\"maskingPolys\":[]},\"addresses\":[{\"text\":\"경상북도 포항시 남구 포스코대로353번길 8 대도동)\",\"formatted\":{\"value\":\"경상북도 포항시 남구 포스코대로353번길 8 대도동)\"},\"keyText\":\"주 소:\",\"confidenceScore\":0.95395,\"boundingPolys\":[{\"vertices\":[{\"x\":185.0,\"y\":279.0},{\"x\":248.0,\"y\":279.0},{\"x\":248.0,\"y\":298.0},{\"x\":185.0,\"y\":298.0}]},{\"vertices\":[{\"x\":249.0,\"y\":280.0},{\"x\":296.0,\"y\":280.0},{\"x\":296.0,\"y\":299.0},{\"x\":249.0,\"y\":299.0}]},{\"vertices\":[{\"x\":299.0,\"y\":280.0},{\"x\":333.0,\"y\":280.0},{\"x\":333.0,\"y\":299.0},{\"x\":299.0,\"y\":299.0}]},{\"vertices\":[{\"x\":336.0,\"y\":280.0},{\"x\":461.0,\"y\":280.0},{\"x\":461.0,\"y\":298.0},{\"x\":336.0,\"y\":298.0}]},{\"vertices\":[{\"x\":466.0,\"y\":282.0},{\"x\":477.0,\"y\":282.0},{\"x\":477.0,\"y\":296.0},{\"x\":466.0,\"y\":296.0}]},{\"vertices\":[{\"x\":170.0,\"y\":296.0},{\"x\":224.0,\"y\":296.0},{\"x\":224.0,\"y\":314.0},{\"x\":170.0,\"y\":314.0}]}],\"maskingPolys\":[]}],\"tel\":[{\"text\":\"273-5220\",\"formatted\":{\"value\":\"2735220\"},\"keyText\":\"/전 화:\",\"confidenceScore\":0.84915,\"boundingPolys\":[{\"vertices\":[{\"x\":335.0,\"y\":230.0},{\"x\":399.0,\"y\":230.0},{\"x\":399.0,\"y\":246.0},{\"x\":335.0,\"y\":246.0}]}]}]},\"paymentInfo\":{\"date\":{\"text\":\"2018/02/08\",\"formatted\":{\"year\":\"2018\",\"month\":\"02\",\"day\":\"08\"},\"keyText\":\"거래 일시:\",\"confidenceScore\":0.67657,\"boundingPolys\":[{\"vertices\":[{\"x\":234.0,\"y\":396.0},{\"x\":311.0,\"y\":396.0},{\"x\":311.0,\"y\":411.0},{\"x\":234.0,\"y\":411.0}]}],\"maskingPolys\":[]},\"time\":{\"text\":\"13: 41: 24\",\"formatted\":{\"hour\":\"13\",\"minute\":\"41\",\"second\":\"24\"},\"keyText\":\"\",\"confidenceScore\":0.88606,\"boundingPolys\":[{\"vertices\":[{\"x\":321.0,\"y\":396.0},{\"x\":344.0,\"y\":396.0},{\"x\":344.0,\"y\":410.0},{\"x\":321.0,\"y\":410.0}]},{\"vertices\":[{\"x\":341.0,\"y\":396.0},{\"x\":365.0,\"y\":396.0},{\"x\":365.0,\"y\":411.0},{\"x\":341.0,\"y\":411.0}]},{\"vertices\":[{\"x\":363.0,\"y\":396.0},{\"x\":383.0,\"y\":396.0},{\"x\":383.0,\"y\":412.0},{\"x\":363.0,\"y\":412.0}]}]},\"cardInfo\":{\"company\":{\"text\":\"신한카드체크\",\"formatted\":{\"value\":\"신한카드체크\"},\"keyText\":\"카드 종류:\",\"confidenceScore\":0.93016,\"boundingPolys\":[{\"vertices\":[{\"x\":234.0,\"y\":361.0},{\"x\":325.0,\"y\":362.0},{\"x\":325.0,\"y\":379.0},{\"x\":234.0,\"y\":378.0}]}],\"maskingPolys\":[]}}},\"subResults\":[{\"items\":[{\"name\":{\"text\":\"이가탄에프캡슐 명인제약(좌\",\"formatted\":{\"value\":\"이가탄에프캡슐 명인제약(좌\"},\"keyText\":\"\",\"confidenceScore\":0.38606,\"boundingPolys\":[{\"vertices\":[{\"x\":146.0,\"y\":456.0},{\"x\":253.0,\"y\":456.0},{\"x\":253.0,\"y\":475.0},{\"x\":146.0,\"y\":475.0}]},{\"vertices\":[{\"x\":146.0,\"y\":473.0},{\"x\":231.0,\"y\":473.0},{\"x\":231.0,\"y\":491.0},{\"x\":146.0,\"y\":491.0}]}],\"maskingPolys\":[]},\"count\":{\"text\":\"1\",\"formatted\":{\"value\":\"1\"},\"keyText\":\"\",\"confidenceScore\":0.9488,\"boundingPolys\":[{\"vertices\":[{\"x\":392.0,\"y\":476.0},{\"x\":404.0,\"y\":476.0},{\"x\":404.0,\"y\":491.0},{\"x\":392.0,\"y\":491.0}]}]},\"price\":{\"price\":{\"text\":\"27,000\",\"formatted\":{\"value\":\"27000\"},\"keyText\":\"\",\"confidenceScore\":0.91715,\"boundingPolys\":[{\"vertices\":[{\"x\":429.0,\"y\":477.0},{\"x\":478.0,\"y\":477.0},{\"x\":478.0,\"y\":494.0},{\"x\":429.0,\"y\":494.0}]}]},\"unitPrice\":{\"text\":\"27,000\",\"formatted\":{\"value\":\"27000\"},\"keyText\":\"\",\"confidenceScore\":0.94367,\"boundingPolys\":[{\"vertices\":[{\"x\":319.0,\"y\":475.0},{\"x\":368.0,\"y\":475.0},{\"x\":368.0,\"y\":491.0},{\"x\":319.0,\"y\":491.0}]}]}}}]}],\"totalPrice\":{\"price\":{\"text\":\"27,000원\",\"formatted\":{\"value\":\"27000\"},\"keyText\":\"합 계:\",\"confidenceScore\":0.95203,\"boundingPolys\":[{\"vertices\":[{\"x\":355.0,\"y\":540.0},{\"x\":472.0,\"y\":542.0},{\"x\":471.0,\"y\":560.0},{\"x\":355.0,\"y\":558.0}]}]}},\"subTotal\":[]}},\"uid\":\"3501039f6b3d4564ac2cedcf5e1d5a3e\",\"name\":\"demo\",\"inferResult\":\"SUCCESS\",\"message\":\"SUCCESS\",\"validationResult\":{\"result\":\"NO_REQUESTED\"}}]}\n"
     ]
    }
   ],
   "source": [
    "import requests\n",
    "import uuid\n",
    "import time\n",
    "import base64\n",
    "import json\n",
    "\n",
    "api_url = 'https://67n8p6j9j9.apigw.ntruss.com/custom/v1/26646/8e91acb70d873b87aabbf23331581173af5b86c1f7402b56b83e9753cf75739c/document/receipt'\n",
    "secret_key = 'SlNRakxNbWZxdlhFS3pXSlRLVEhNbktJaUpCcElZV3E='\n",
    "image_file = 'C:/Users/USER/Desktop/receipt2.jpg'\n",
    "\n",
    "with open(image_file,'rb') as f:\n",
    "    file_data = f.read()\n",
    "\n",
    "request_json = {\n",
    "    'images': [\n",
    "        {\n",
    "            'format': 'jpg',\n",
    "            'name': 'demo',\n",
    "            'data': base64.b64encode(file_data).decode()\n",
    "        }\n",
    "    ],\n",
    "    'requestId': str(uuid.uuid4()),\n",
    "    'version': 'V2',\n",
    "    'timestamp': int(round(time.time() * 1000))\n",
    "}\n",
    "\n",
    "payload = json.dumps(request_json).encode('UTF-8')\n",
    "headers = {\n",
    "  'X-OCR-SECRET': secret_key,\n",
    "  'Content-Type': 'application/json'\n",
    "}\n",
    "\n",
    "response = requests.request(\"POST\", api_url, headers=headers, data = payload)\n",
    "\n",
    "print(response.text)"
   ]
  },
  {
   "cell_type": "code",
   "execution_count": 40,
   "metadata": {},
   "outputs": [],
   "source": [
    "result = response.json()\n",
    "with open('result.json', 'w', encoding='utf-8') as make_file:\n",
    "    json.dump(result, make_file, indent=\"\\t\", ensure_ascii=False)\n",
    "    text = \"\""
   ]
  },
  {
   "cell_type": "code",
   "execution_count": 41,
   "metadata": {},
   "outputs": [
    {
     "name": "stdout",
     "output_type": "stream",
     "text": [
      "이화약국 2018 02 08 27000\n"
     ]
    }
   ],
   "source": [
    "response_json = response.json()\n",
    "\n",
    "name = response_json['images'][0]['receipt']['result']['storeInfo']['name']['text']\n",
    "date = response_json['images'][0]['receipt']['result']['paymentInfo']['date']['formatted']\n",
    "money = response_json['images'][0]['receipt']['result']['totalPrice']['price']['formatted']['value']\n",
    "\n",
    "print(name,date['year'],date['month'],date['day'],money)"
   ]
  }
 ],
 "metadata": {
  "kernelspec": {
   "display_name": "base",
   "language": "python",
   "name": "python3"
  },
  "language_info": {
   "codemirror_mode": {
    "name": "ipython",
    "version": 3
   },
   "file_extension": ".py",
   "mimetype": "text/x-python",
   "name": "python",
   "nbconvert_exporter": "python",
   "pygments_lexer": "ipython3",
   "version": "3.11.4"
  }
 },
 "nbformat": 4,
 "nbformat_minor": 2
}
