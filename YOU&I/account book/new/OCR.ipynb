{
 "cells": [
  {
   "cell_type": "code",
   "execution_count": 6,
   "id": "b1a998cd",
   "metadata": {
    "collapsed": true
   },
   "outputs": [
    {
     "name": "stdout",
     "output_type": "stream",
     "text": [
      "{\"version\":\"V2\",\"requestId\":\"28256415-bc90-4aa7-9744-f44518af0ff1\",\"timestamp\":1701401379677,\"images\":[{\"receipt\":{\"meta\":{\"estimatedLanguage\":\"ko\"},\"result\":{\"storeInfo\":{\"name\":{\"text\":\"현 스시\",\"formatted\":{\"value\":\"현 스시\"},\"keyText\":\"가맹점명:\",\"confidenceScore\":0.81082,\"boundingPolys\":[{\"vertices\":[{\"x\":178.0,\"y\":85.0},{\"x\":210.0,\"y\":85.0},{\"x\":210.0,\"y\":126.0},{\"x\":178.0,\"y\":126.0}]},{\"vertices\":[{\"x\":243.0,\"y\":85.0},{\"x\":308.0,\"y\":85.0},{\"x\":308.0,\"y\":126.0},{\"x\":243.0,\"y\":126.0}]}],\"maskingPolys\":[]},\"bizNum\":{\"text\":\"217-17-24044\",\"formatted\":{\"value\":\"217-17-24044\"},\"keyText\":\"사업자 번호:\",\"confidenceScore\":0.9283,\"boundingPolys\":[{\"vertices\":[{\"x\":153.0,\"y\":227.0},{\"x\":228.0,\"y\":225.0},{\"x\":228.0,\"y\":238.0},{\"x\":153.0,\"y\":240.0}]}],\"maskingPolys\":[]},\"addresses\":[{\"text\":\"경상남도 창원시 의창구 신월로 2.\",\"formatted\":{\"value\":\"경상남도 창원시 의창구 신월로 2.\"},\"keyText\":\"주 소:\",\"confidenceScore\":0.93971,\"boundingPolys\":[{\"vertices\":[{\"x\":153.0,\"y\":255.0},{\"x\":205.0,\"y\":255.0},{\"x\":205.0,\"y\":273.0},{\"x\":153.0,\"y\":273.0}]},{\"vertices\":[{\"x\":205.0,\"y\":254.0},{\"x\":245.0,\"y\":254.0},{\"x\":245.0,\"y\":272.0},{\"x\":205.0,\"y\":272.0}]},{\"vertices\":[{\"x\":247.0,\"y\":253.0},{\"x\":287.0,\"y\":253.0},{\"x\":287.0,\"y\":272.0},{\"x\":247.0,\"y\":272.0}]},{\"vertices\":[{\"x\":288.0,\"y\":253.0},{\"x\":328.0,\"y\":253.0},{\"x\":328.0,\"y\":272.0},{\"x\":288.0,\"y\":272.0}]},{\"vertices\":[{\"x\":331.0,\"y\":255.0},{\"x\":347.0,\"y\":255.0},{\"x\":347.0,\"y\":267.0},{\"x\":331.0,\"y\":267.0}]}],\"maskingPolys\":[]}],\"tel\":[{\"text\":\"055-267-2827\",\"formatted\":{\"value\":\"0552672827\"},\"keyText\":\"전화번호:\",\"confidenceScore\":0.93197,\"boundingPolys\":[{\"vertices\":[{\"x\":154.0,\"y\":242.0},{\"x\":229.0,\"y\":242.0},{\"x\":229.0,\"y\":254.0},{\"x\":154.0,\"y\":254.0}]}]}]},\"paymentInfo\":{\"date\":{\"text\":\"2016-07-05\",\"formatted\":{\"year\":\"2016\",\"month\":\"07\",\"day\":\"05\"},\"keyText\":\"[승인 일시]\",\"confidenceScore\":0.759,\"boundingPolys\":[{\"vertices\":[{\"x\":156.0,\"y\":445.0},{\"x\":218.0,\"y\":445.0},{\"x\":218.0,\"y\":457.0},{\"x\":156.0,\"y\":457.0}]}],\"maskingPolys\":[]},\"time\":{\"text\":\"12:15: 07\",\"formatted\":{\"hour\":\"12\",\"minute\":\"15\",\"second\":\"07\"},\"keyText\":\"\",\"confidenceScore\":0.93335,\"boundingPolys\":[{\"vertices\":[{\"x\":222.0,\"y\":445.0},{\"x\":257.0,\"y\":445.0},{\"x\":257.0,\"y\":455.0},{\"x\":222.0,\"y\":455.0}]},{\"vertices\":[{\"x\":256.0,\"y\":445.0},{\"x\":271.0,\"y\":445.0},{\"x\":271.0,\"y\":455.0},{\"x\":256.0,\"y\":455.0}]}]},\"cardInfo\":{\"company\":{\"text\":\"NH기업카드\",\"formatted\":{\"value\":\"NH기업카드\"},\"keyText\":\"[카드 종류]\",\"confidenceScore\":0.93527,\"boundingPolys\":[{\"vertices\":[{\"x\":154.0,\"y\":313.0},{\"x\":217.0,\"y\":313.0},{\"x\":217.0,\"y\":329.0},{\"x\":154.0,\"y\":329.0}]}],\"maskingPolys\":[]},\"number\":{\"text\":\"5531-71**-****-1534\",\"formatted\":{\"value\":\"5531-71**-****-1534\"},\"keyText\":\"[카드 번호]\",\"confidenceScore\":0.9403,\"boundingPolys\":[{\"vertices\":[{\"x\":155.0,\"y\":330.0},{\"x\":269.0,\"y\":329.0},{\"x\":269.0,\"y\":339.0},{\"x\":155.0,\"y\":340.0}]}],\"maskingPolys\":[]}}},\"subResults\":[],\"totalPrice\":{\"price\":{\"text\":\"334,000\",\"formatted\":{\"value\":\"334000\"},\"keyText\":\"[승인 금액]\",\"confidenceScore\":0.54996,\"boundingPolys\":[{\"vertices\":[{\"x\":286.0,\"y\":414.0},{\"x\":330.0,\"y\":414.0},{\"x\":330.0,\"y\":426.0},{\"x\":286.0,\"y\":426.0}]}]}},\"subTotal\":[{\"taxPrice\":[{\"text\":\"30,362\",\"formatted\":{\"value\":\"30362\"},\"keyText\":\"부가세액:\",\"confidenceScore\":0.68035,\"boundingPolys\":[{\"vertices\":[{\"x\":292.0,\"y\":501.0},{\"x\":332.0,\"y\":500.0},{\"x\":332.0,\"y\":512.0},{\"x\":293.0,\"y\":513.0}]}]}]}]}},\"uid\":\"2b127b2fb7ba4fd6b7d6db0f655a80e5\",\"name\":\"demo\",\"inferResult\":\"SUCCESS\",\"message\":\"SUCCESS\",\"validationResult\":{\"result\":\"NO_REQUESTED\"}}]}\n"
     ]
    }
   ],
   "source": [
    "import requests\n",
    "import uuid\n",
    "import time\n",
    "import base64\n",
    "import json\n",
    "\n",
    "api_url = 'https://67n8p6j9j9.apigw.ntruss.com/custom/v1/26646/8e91acb70d873b87aabbf23331581173af5b86c1f7402b56b83e9753cf75739c/document/receipt'\n",
    "secret_key = 'SlNRakxNbWZxdlhFS3pXSlRLVEhNbktJaUpCcElZV3E='\n",
    "image_file = 'C:/Users/USER/Desktop/receipt3.jpg'\n",
    "\n",
    "with open(image_file,'rb') as f:\n",
    "    file_data = f.read()\n",
    "\n",
    "request_json = {\n",
    "    'images': [\n",
    "        {\n",
    "            'format': 'jpg',\n",
    "            'name': 'demo',\n",
    "            'data': base64.b64encode(file_data).decode()\n",
    "        }\n",
    "    ],\n",
    "    'requestId': str(uuid.uuid4()),\n",
    "    'version': 'V2',\n",
    "    'timestamp': int(round(time.time() * 1000))\n",
    "}\n",
    "\n",
    "payload = json.dumps(request_json).encode('UTF-8')\n",
    "headers = {\n",
    "  'X-OCR-SECRET': secret_key,\n",
    "  'Content-Type': 'application/json'\n",
    "}\n",
    "\n",
    "response = requests.request(\"POST\", api_url, headers=headers, data = payload)\n",
    "\n",
    "print(response.text)"
   ]
  },
  {
   "cell_type": "code",
   "execution_count": 7,
   "id": "e7f1b223",
   "metadata": {},
   "outputs": [],
   "source": [
    "result = response.json()\n",
    "with open('result.json', 'w', encoding='utf-8') as make_file:\n",
    "    json.dump(result, make_file, indent=\"\\t\", ensure_ascii=False)\n",
    "    text = \"\"\n"
   ]
  },
  {
   "cell_type": "code",
   "execution_count": 10,
   "id": "8a7b46ab",
   "metadata": {},
   "outputs": [
    {
     "name": "stdout",
     "output_type": "stream",
     "text": [
      "현 스시 2016 07 05 334000\n"
     ]
    }
   ],
   "source": [
    "response_json = response.json()\n",
    "\n",
    "name = response_json['images'][0]['receipt']['result']['storeInfo']['name']['text']\n",
    "date = response_json['images'][0]['receipt']['result']['paymentInfo']['date']['formatted']\n",
    "money = response_json['images'][0]['receipt']['result']['totalPrice']['price']['formatted']['value']\n",
    "\n",
    "print(name,date['year'],date['month'],date['day'],money)"
   ]
  }
 ],
 "metadata": {
  "kernelspec": {
   "display_name": "Python 3 (ipykernel)",
   "language": "python",
   "name": "python3"
  },
  "language_info": {
   "codemirror_mode": {
    "name": "ipython",
    "version": 3
   },
   "file_extension": ".py",
   "mimetype": "text/x-python",
   "name": "python",
   "nbconvert_exporter": "python",
   "pygments_lexer": "ipython3",
   "version": "3.11.4"
  },
  "toc": {
   "base_numbering": 1,
   "nav_menu": {},
   "number_sections": true,
   "sideBar": true,
   "skip_h1_title": false,
   "title_cell": "Table of Contents",
   "title_sidebar": "Contents",
   "toc_cell": false,
   "toc_position": {},
   "toc_section_display": true,
   "toc_window_display": false
  }
 },
 "nbformat": 4,
 "nbformat_minor": 5
}
